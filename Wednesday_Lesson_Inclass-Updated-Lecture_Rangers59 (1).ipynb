{
 "cells": [
  {
   "cell_type": "markdown",
   "metadata": {},
   "source": [
    "# Data Collections 2 (Dictionaries, Sets) and Importing Modules"
   ]
  },
  {
   "cell_type": "markdown",
   "metadata": {},
   "source": [
    "## Tasks Today:\n",
    "\n",
    "1) Dictionary <br>\n",
    " &nbsp;&nbsp;&nbsp;&nbsp; a) Declaring (key, value) <br>\n",
    " &nbsp;&nbsp;&nbsp;&nbsp; b) Accessing Values <br>\n",
    " &nbsp;&nbsp;&nbsp;&nbsp; ------ Exercise #1 - Print the eye color of each person in a double nested dict <br>\n",
    " &nbsp;&nbsp;&nbsp;&nbsp; c) Adding New Pairs <br>\n",
    " &nbsp;&nbsp;&nbsp;&nbsp; d) Modifying Values <br>\n",
    " &nbsp;&nbsp;&nbsp;&nbsp; e) Removing Key, Value Pairs <br>\n",
    " &nbsp;&nbsp;&nbsp;&nbsp; f) Looping a Dictionary <br>\n",
    " &nbsp;&nbsp;&nbsp;&nbsp; g) Looping Only Keys <br>\n",
    " &nbsp;&nbsp;&nbsp;&nbsp; h) Looping Only Values <br>\n",
    " &nbsp;&nbsp;&nbsp;&nbsp; ------ Exercise #2 - Create a Function that Prints All Key Value Pairs within a print .format()  <br>\n",
    " &nbsp;&nbsp;&nbsp;&nbsp; i) sorted() <br>\n",
    " &nbsp;&nbsp;&nbsp;&nbsp; j) Lists with Dictionaries <br>\n",
    " &nbsp;&nbsp;&nbsp;&nbsp; k) Dictionaries with Lists <br>\n",
    " &nbsp;&nbsp;&nbsp;&nbsp; l) Dictionaries with Dictionaries <br>\n",
    " &nbsp;&nbsp;&nbsp;&nbsp; ------ Exercise #3 - Write a Function that asks someone's name and address, and then stores that into a dictionary, which prints all names and addresses after they're done putting information in...  <br>\n",
    "2) Dictionaries vs. Lists (over time)<br>\n",
    "3) Set <br>\n",
    " &nbsp;&nbsp;&nbsp;&nbsp; a) Declaring <br>\n",
    " &nbsp;&nbsp;&nbsp;&nbsp; b) .add() <br>\n",
    " &nbsp;&nbsp;&nbsp;&nbsp; c) .remove() <br>\n",
    " &nbsp;&nbsp;&nbsp;&nbsp; d) .union() <br>\n",
    " &nbsp;&nbsp;&nbsp;&nbsp; e) .intersection() <br>\n",
    " &nbsp;&nbsp;&nbsp;&nbsp; f) .difference() <br>\n",
    " &nbsp;&nbsp;&nbsp;&nbsp; g) Frozen Set <br>\n",
    "4) Modules <br>\n",
    " &nbsp;&nbsp;&nbsp;&nbsp; a) Importing Entire Modules <br>\n",
    " &nbsp;&nbsp;&nbsp;&nbsp; b) Importing Methods Only <br>\n",
    " &nbsp;&nbsp;&nbsp;&nbsp; c) Using the 'as' Keyword <br>\n",
    " &nbsp;&nbsp;&nbsp;&nbsp; d) Creating a Module <br>\n",
    "5) Exercises <br>\n",
    " &nbsp;&nbsp;&nbsp;&nbsp; a) Build a Shopping Cart <br>\n",
    " &nbsp;&nbsp;&nbsp;&nbsp; b) Create Your Own Module <br>"
   ]
  },
  {
   "cell_type": "markdown",
   "metadata": {},
   "source": [
    "## Dictionary <br>\n",
    "<p>A collection of data with 'key:value' pairs. Dictionaries are ordered as of Python 3.6</p>"
   ]
  },
  {
   "cell_type": "code",
   "execution_count": null,
   "metadata": {},
   "outputs": [],
   "source": [
    "profile:\n",
    "    first name: kevin\n",
    "    last name: beier\n",
    "    email: kevinb@codingtemple.com\n",
    "    age: 99\n",
    "    weight: 240"
   ]
  },
  {
   "cell_type": "code",
   "execution_count": null,
   "metadata": {},
   "outputs": [],
   "source": [
    "[\"kevin\", \"Beier\", \"kevinb@codingtemple.com\", 99, 249]"
   ]
  },
  {
   "cell_type": "markdown",
   "metadata": {},
   "source": [
    "##### Declaring (key, value)"
   ]
  },
  {
   "cell_type": "code",
   "execution_count": 3,
   "metadata": {},
   "outputs": [
    {
     "name": "stdout",
     "output_type": "stream",
     "text": [
      "<class 'dict'>\n",
      "<class 'dict'>\n"
     ]
    }
   ],
   "source": [
    "d = dict() ## This is actually really slow\n",
    "print(type(d))\n",
    "\n",
    "d = {} #this is prefered\n",
    "print(type(d))"
   ]
  },
  {
   "cell_type": "code",
   "execution_count": 4,
   "metadata": {
    "scrolled": true
   },
   "outputs": [
    {
     "data": {
      "text/plain": [
       "-1863929569172640054"
      ]
     },
     "execution_count": 4,
     "metadata": {},
     "output_type": "execute_result"
    }
   ],
   "source": [
    "hash(\"hey\")"
   ]
  },
  {
   "cell_type": "code",
   "execution_count": 5,
   "metadata": {
    "scrolled": true
   },
   "outputs": [
    {
     "data": {
      "text/plain": [
       "-1863929569172640054"
      ]
     },
     "execution_count": 5,
     "metadata": {},
     "output_type": "execute_result"
    }
   ],
   "source": [
    "hash(\"hey\")"
   ]
  },
  {
   "cell_type": "code",
   "execution_count": 8,
   "metadata": {
    "scrolled": false
   },
   "outputs": [
    {
     "data": {
      "text/plain": [
       "-2036147294588383291"
      ]
     },
     "execution_count": 8,
     "metadata": {},
     "output_type": "execute_result"
    }
   ],
   "source": [
    "hash(\"other\")"
   ]
  },
  {
   "cell_type": "code",
   "execution_count": 10,
   "metadata": {},
   "outputs": [
    {
     "ename": "TypeError",
     "evalue": "unhashable type: 'list'",
     "output_type": "error",
     "traceback": [
      "\u001b[0;31m---------------------------------------------------------------------------\u001b[0m",
      "\u001b[0;31mTypeError\u001b[0m                                 Traceback (most recent call last)",
      "\u001b[0;32m<ipython-input-10-35e31e935e9e>\u001b[0m in \u001b[0;36m<module>\u001b[0;34m\u001b[0m\n\u001b[0;32m----> 1\u001b[0;31m \u001b[0mhash\u001b[0m\u001b[0;34m(\u001b[0m\u001b[0;34m[\u001b[0m\u001b[0;36m1\u001b[0m\u001b[0;34m,\u001b[0m\u001b[0;36m2\u001b[0m\u001b[0;34m,\u001b[0m\u001b[0;36m3\u001b[0m\u001b[0;34m]\u001b[0m\u001b[0;34m)\u001b[0m\u001b[0;34m\u001b[0m\u001b[0;34m\u001b[0m\u001b[0m\n\u001b[0m",
      "\u001b[0;31mTypeError\u001b[0m: unhashable type: 'list'"
     ]
    }
   ],
   "source": [
    "hash([1,2,3])"
   ]
  },
  {
   "cell_type": "markdown",
   "metadata": {},
   "source": [
    "##### Accessing Values"
   ]
  },
  {
   "cell_type": "code",
   "execution_count": 13,
   "metadata": {},
   "outputs": [
    {
     "name": "stdout",
     "output_type": "stream",
     "text": [
      "{'key': 'Value', 'name': 'Marcus', 123: 'integer', 'position': 'DE'}\n"
     ]
    },
    {
     "data": {
      "text/plain": [
       "{'key': 'value', 'name': 'Marcus', 'position': 'DE'}"
      ]
     },
     "execution_count": 13,
     "metadata": {},
     "output_type": "execute_result"
    }
   ],
   "source": [
    "d1 = {\n",
    "    \"key\":\"Value\",\n",
    "    \"name\":\"Marcus\",\n",
    "    123:\"integer\",\n",
    "    \"position\":\"DE\"\n",
    "}\n",
    "\n",
    "# Above is the way we do it\n",
    "print(d1)\n",
    "\n",
    "d1 = dict(key=\"value\", name=\"Marcus\", position=\"DE\" )\n",
    "d1"
   ]
  },
  {
   "cell_type": "code",
   "execution_count": 21,
   "metadata": {
    "scrolled": true
   },
   "outputs": [
    {
     "name": "stdout",
     "output_type": "stream",
     "text": [
      "Value\n",
      "Marcus\n",
      "integer\n",
      "DE\n",
      "hello\n",
      "Marcus is the new DE and he is an animal!\n"
     ]
    }
   ],
   "source": [
    "keyasvar=\"blah\"\n",
    "\n",
    "d1 = {\n",
    "    \"key\":\"Value\",\n",
    "    \"name\":\"Marcus\",\n",
    "    123:\"integer\",\n",
    "    \"position\":\"DE\",\n",
    "    keyasvar:\"hello\"\n",
    "}\n",
    "\n",
    "print(d1[\"key\"])\n",
    "\n",
    "print(d1[\"name\"])\n",
    "\n",
    "print(d1[123])\n",
    "print(d1[\"position\"])\n",
    "\n",
    "\n",
    "print(d1[\"blah\"])\n",
    "\n",
    "\n",
    "\n",
    "print(f'{d1[\"name\"]} is the new {d1[\"position\"]} and he is an animal!')"
   ]
  },
  {
   "cell_type": "markdown",
   "metadata": {},
   "source": [
    "## In-Class Exercise #1 - Print a formatted statement from the dictionary below <br>\n",
    "<p>The output should be '2018 Chevrolet Silverado'</p>"
   ]
  },
  {
   "cell_type": "code",
   "execution_count": 24,
   "metadata": {},
   "outputs": [
    {
     "name": "stdout",
     "output_type": "stream",
     "text": [
      "I have a 2018 Chevrolet Silverado\n"
     ]
    }
   ],
   "source": [
    "# use the dict below\n",
    "truck = {\n",
    "    'year': 2018,\n",
    "    'make': 'Chevrolet',\n",
    "    'model': 'Silverado'\n",
    "}\n",
    "\n",
    "print(f\"I have a {truck['year']} {truck['make']} {truck['model']}\")"
   ]
  },
  {
   "cell_type": "markdown",
   "metadata": {},
   "source": [
    "#### .get()"
   ]
  },
  {
   "cell_type": "code",
   "execution_count": 30,
   "metadata": {},
   "outputs": [
    {
     "name": "stdout",
     "output_type": "stream",
     "text": [
      "Dylan\n",
      "None\n",
      "21\n"
     ]
    }
   ],
   "source": [
    "ds = {\n",
    "    \"first_name\" : \"Dylan\",\n",
    "    \"last_name\" : \"Smith\",\n",
    "    \"no_of_showers_this_year\": 3.5,\n",
    "    \"taste_in_music\": \"Bad\",\n",
    "#     \"age\": 27,\n",
    "    \"states_seen\": 45\n",
    "}\n",
    "\n",
    "print(ds[\"first_name\"])\n",
    "\n",
    "# print(ds[\"age\"])\n",
    "\n",
    "print(ds.get(\"age\"))\n",
    "print(ds.get(\"age\", 21))\n",
    "\n",
    "# .get is very slow .. so if you know you have teh key in your dictionary use bracket notation\n"
   ]
  },
  {
   "cell_type": "code",
   "execution_count": 31,
   "metadata": {},
   "outputs": [
    {
     "name": "stdout",
     "output_type": "stream",
     "text": [
      "Dylan is 99\n",
      "Kevin is 16\n"
     ]
    }
   ],
   "source": [
    "ds = {\n",
    "    \"first_name\" : \"Dylan\",\n",
    "    \"last_name\" : \"Smith\",\n",
    "    \"no_of_showers_this_year\": 3.5,\n",
    "    \"taste_in_music\": \"Bad\",\n",
    "    \"states_seen\": 45\n",
    "}\n",
    "\n",
    "kb = {\n",
    "    \"first_name\" : \"Kevin\",\n",
    "    \"last_name\" : \"Beier\",\n",
    "    \"no_of_showers_this_year\": 250,\n",
    "    \"taste_in_music\": \"Amazing\",\n",
    "    \"states_seen\": 30,\n",
    "    \"age\": 16\n",
    "}\n",
    "\n",
    "teachers = [ds, kb]\n",
    "\n",
    "\n",
    "for teacher in teachers:\n",
    "    print(f\"{teacher['first_name']} is {teacher.get('age', 99)}\")\n"
   ]
  },
  {
   "cell_type": "markdown",
   "metadata": {},
   "source": [
    "##### Adding New Pairs"
   ]
  },
  {
   "cell_type": "code",
   "execution_count": 32,
   "metadata": {},
   "outputs": [
    {
     "name": "stdout",
     "output_type": "stream",
     "text": [
      "{'first_name': 'Dylan', 'last_name': 'Smith', 'no_of_showers_this_year': 3.5, 'taste_in_music': 'Bad', 'states_seen': 45, 'age': 32}\n"
     ]
    }
   ],
   "source": [
    "ds = {\n",
    "    \"first_name\" : \"Dylan\",\n",
    "    \"last_name\" : \"Smith\",\n",
    "    \"no_of_showers_this_year\": 3.5,\n",
    "    \"taste_in_music\": \"Bad\",\n",
    "    \"states_seen\": 45\n",
    "}\n",
    "\n",
    "ds['age']=32\n",
    "print(ds)"
   ]
  },
  {
   "cell_type": "code",
   "execution_count": 33,
   "metadata": {},
   "outputs": [
    {
     "name": "stdout",
     "output_type": "stream",
     "text": [
      "{'first_name': 'Dylan', 'last_name': 'Smith', 'no_of_showers_this_year': 3.5, 'taste_in_music': 'Bad', 'states_seen': 45, 'age': 32, 'weights': 250}\n"
     ]
    }
   ],
   "source": [
    "my_new_key = \"weight\"\n",
    "ds[my_new_key+\"s\"]=250\n",
    "\n",
    "print(ds)"
   ]
  },
  {
   "cell_type": "markdown",
   "metadata": {},
   "source": [
    "##### Modifying Values"
   ]
  },
  {
   "cell_type": "code",
   "execution_count": 34,
   "metadata": {},
   "outputs": [],
   "source": [
    "ds[\"no_of_showers_this_year\"] += 1"
   ]
  },
  {
   "cell_type": "code",
   "execution_count": 35,
   "metadata": {
    "scrolled": true
   },
   "outputs": [
    {
     "name": "stdout",
     "output_type": "stream",
     "text": [
      "{'first_name': 'Dylan', 'last_name': 'Smith', 'no_of_showers_this_year': 4.5, 'taste_in_music': 'Bad', 'states_seen': 45, 'age': 32, 'weights': 250}\n"
     ]
    }
   ],
   "source": [
    "print(ds)"
   ]
  },
  {
   "cell_type": "code",
   "execution_count": 36,
   "metadata": {
    "scrolled": true
   },
   "outputs": [
    {
     "name": "stdout",
     "output_type": "stream",
     "text": [
      "{'first_name': 'Dylan', 'last_name': 'Cervantez', 'no_of_showers_this_year': 4.5, 'taste_in_music': 'Bad', 'states_seen': 45, 'age': 32, 'weights': 250}\n"
     ]
    }
   ],
   "source": [
    "ds[\"last_name\"] = \"Cervantez\"\n",
    "print(ds)"
   ]
  },
  {
   "cell_type": "markdown",
   "metadata": {},
   "source": [
    "#### .update()"
   ]
  },
  {
   "cell_type": "code",
   "execution_count": 37,
   "metadata": {},
   "outputs": [
    {
     "name": "stdout",
     "output_type": "stream",
     "text": [
      "{'first_name': 'Dylan', 'last_name': 'Smith', 'no_of_showers_this_year': 3.5, 'taste_in_music': 'Bad', 'states_seen': 45, 'age': 32}\n"
     ]
    }
   ],
   "source": [
    "ds = {\n",
    "    \"first_name\" : \"Dylan\",\n",
    "    \"last_name\" : \"Smith\",\n",
    "    \"no_of_showers_this_year\": 3.5,\n",
    "    \"taste_in_music\": \"Bad\",\n",
    "    \"states_seen\": 45\n",
    "}\n",
    "ds.update({\"age\":32})\n",
    "print(ds)"
   ]
  },
  {
   "cell_type": "code",
   "execution_count": 38,
   "metadata": {
    "scrolled": true
   },
   "outputs": [
    {
     "name": "stdout",
     "output_type": "stream",
     "text": [
      "{'first_name': 'Dylan', 'last_name': 'Smith', 'no_of_showers_this_year': 3.5, 'taste_in_music': 'Bad', 'states_seen': 45, 'age': 32}\n"
     ]
    }
   ],
   "source": [
    "ds = {\n",
    "    \"first_name\" : \"Dylan\",\n",
    "    \"last_name\" : \"Smith\",\n",
    "    \"no_of_showers_this_year\": 3.5,\n",
    "    \"taste_in_music\": \"Bad\",\n",
    "    \"states_seen\": 45\n",
    "}\n",
    "ds.update(age=32)\n",
    "print(ds)"
   ]
  },
  {
   "cell_type": "code",
   "execution_count": 39,
   "metadata": {
    "scrolled": true
   },
   "outputs": [
    {
     "ename": "TypeError",
     "evalue": "unsupported operand type(s) for +: 'dict' and 'dict'",
     "output_type": "error",
     "traceback": [
      "\u001b[0;31m---------------------------------------------------------------------------\u001b[0m",
      "\u001b[0;31mTypeError\u001b[0m                                 Traceback (most recent call last)",
      "\u001b[0;32m<ipython-input-39-0d30a06860aa>\u001b[0m in \u001b[0;36m<module>\u001b[0;34m\u001b[0m\n\u001b[0;32m----> 1\u001b[0;31m \u001b[0;34m{\u001b[0m\u001b[0;34m\"name\"\u001b[0m\u001b[0;34m:\u001b[0m\u001b[0;34m\"steve\"\u001b[0m\u001b[0;34m}\u001b[0m\u001b[0;34m+\u001b[0m\u001b[0;34m{\u001b[0m\u001b[0;34m\"age\"\u001b[0m\u001b[0;34m:\u001b[0m\u001b[0;36m42\u001b[0m\u001b[0;34m}\u001b[0m\u001b[0;34m\u001b[0m\u001b[0;34m\u001b[0m\u001b[0m\n\u001b[0m",
      "\u001b[0;31mTypeError\u001b[0m: unsupported operand type(s) for +: 'dict' and 'dict'"
     ]
    }
   ],
   "source": [
    "{\"name\":\"steve\"}+{\"age\":42}"
   ]
  },
  {
   "cell_type": "code",
   "execution_count": 40,
   "metadata": {
    "scrolled": true
   },
   "outputs": [
    {
     "name": "stdout",
     "output_type": "stream",
     "text": [
      "{'first_name': 'Dylan', 'last_name': 'Smith', 'no_of_showers_this_year': 3.5, 'taste_in_music': 'Bad', 'states_seen': 45, 'age': 32}\n"
     ]
    }
   ],
   "source": [
    "new_dict = {**ds}\n",
    "print(new_dict)"
   ]
  },
  {
   "cell_type": "code",
   "execution_count": 43,
   "metadata": {},
   "outputs": [
    {
     "name": "stdout",
     "output_type": "stream",
     "text": [
      "x is  1\n",
      "y is  2\n",
      "z is  3\n",
      "x is  1\n",
      "y is  2\n",
      "z is  3\n"
     ]
    }
   ],
   "source": [
    "def test_function(x,y,z):\n",
    "    print(\"x is \", x)\n",
    "    print(\"y is \", y)\n",
    "    print(\"z is \", z)\n",
    "    \n",
    "test_function(x=1, y=2, z =3)\n",
    "my_params={\n",
    "    \"x\":1,\n",
    "    \"y\":2,\n",
    "    \"z\":3\n",
    "}\n",
    "\n",
    "test_function(**my_params)\n"
   ]
  },
  {
   "cell_type": "markdown",
   "metadata": {},
   "source": [
    "##### Removing Key, Value Pairs"
   ]
  },
  {
   "cell_type": "code",
   "execution_count": 44,
   "metadata": {},
   "outputs": [
    {
     "name": "stdout",
     "output_type": "stream",
     "text": [
      "{'first_name': 'Dylan', 'last_name': 'Smith', 'taste_in_music': 'Bad', 'states_seen': 45}\n"
     ]
    }
   ],
   "source": [
    "ds = {\n",
    "    \"first_name\" : \"Dylan\",\n",
    "    \"last_name\" : \"Smith\",\n",
    "    \"no_of_showers_this_year\": 3.5,\n",
    "    \"taste_in_music\": \"Bad\",\n",
    "    \"states_seen\": 45\n",
    "}\n",
    "\n",
    "del ds[\"no_of_showers_this_year\"]\n",
    "print(ds)"
   ]
  },
  {
   "cell_type": "markdown",
   "metadata": {},
   "source": [
    "##### Looping a Dictionary"
   ]
  },
  {
   "cell_type": "code",
   "execution_count": 49,
   "metadata": {},
   "outputs": [
    {
     "name": "stdout",
     "output_type": "stream",
     "text": [
      "first_name\n",
      "Dylan\n",
      "last_name\n",
      "Smith\n",
      "taste_in_music\n",
      "Bad\n",
      "states_seen\n",
      "45\n"
     ]
    }
   ],
   "source": [
    "#best way to loop over the keys of dictionary\":\n",
    "\n",
    "for key in ds:\n",
    "    print(key) # key\n",
    "    print(ds[key]) # value\n"
   ]
  },
  {
   "cell_type": "markdown",
   "metadata": {},
   "source": [
    "##### Looping Only Keys"
   ]
  },
  {
   "cell_type": "code",
   "execution_count": 52,
   "metadata": {},
   "outputs": [
    {
     "name": "stdout",
     "output_type": "stream",
     "text": [
      "first_name\n",
      "Dylan\n",
      "last_name\n",
      "Smith\n",
      "taste_in_music\n",
      "Bad\n",
      "states_seen\n",
      "45\n"
     ]
    }
   ],
   "source": [
    "# .keys() slower not a great way to do this\n",
    "\n",
    "ds.keys()\n",
    "\n",
    "for key in ds.keys():\n",
    "    print(key)\n",
    "    print(ds[key])"
   ]
  },
  {
   "cell_type": "markdown",
   "metadata": {},
   "source": [
    "##### Looping Only Values"
   ]
  },
  {
   "cell_type": "code",
   "execution_count": 54,
   "metadata": {},
   "outputs": [
    {
     "name": "stdout",
     "output_type": "stream",
     "text": [
      "Dylan\n",
      "Smith\n",
      "Bad\n",
      "45\n"
     ]
    }
   ],
   "source": [
    "# .values()\n",
    "ds.values()\n",
    "\n",
    "for value in ds.values():\n",
    "    print(value)\n"
   ]
  },
  {
   "cell_type": "code",
   "execution_count": 56,
   "metadata": {},
   "outputs": [
    {
     "name": "stdout",
     "output_type": "stream",
     "text": [
      "first_name  has the values of  Dylan\n",
      "last_name  has the values of  Smith\n",
      "taste_in_music  has the values of  Bad\n",
      "states_seen  has the values of  45\n"
     ]
    }
   ],
   "source": [
    "# .items() (keys and values at the same time)\n",
    "\n",
    "ds.items()\n",
    "\n",
    "for key, value in ds.items():\n",
    "    print(key, \" has the values of \", value)"
   ]
  },
  {
   "cell_type": "markdown",
   "metadata": {},
   "source": [
    "## In-Class Exercise #2 - Create a Function that Prints All Key Value Pairs within a print .format() <br>\n",
    "<p><b>Output should be:</b><br>\n",
    "Max has blue eyes<br>\n",
    "Lilly has brown eyes<br>\n",
    "Barney has blue eyes<br>\n",
    "etc.\n",
    "</p>"
   ]
  },
  {
   "cell_type": "code",
   "execution_count": 58,
   "metadata": {},
   "outputs": [
    {
     "name": "stdout",
     "output_type": "stream",
     "text": [
      "Max has blue eyes\n",
      "Lilly has brown eyes\n",
      "Barney has blue eyes\n",
      "Larney has brown eyes\n",
      "Ted has purple eyes\n"
     ]
    }
   ],
   "source": [
    "# use the dict below\n",
    "\n",
    "people = {\n",
    "    'Max': 'blue',\n",
    "    'Lilly': 'brown',\n",
    "    'Barney': 'blue',\n",
    "    'Larney': 'brown',\n",
    "    'Ted': 'purple'\n",
    "}\n",
    "\n",
    "\n",
    "# Max has blue eyes\n",
    "# Lilly has brown eyes\n",
    "# Barney has blue eyes\n",
    "# Larney has brown eyes\n",
    "# Ted has purple eyes\n",
    "\n",
    "for name, eye_color in people.items():\n",
    "    print(name, \"has\", eye_color, \"eyes\") "
   ]
  },
  {
   "cell_type": "code",
   "execution_count": 63,
   "metadata": {},
   "outputs": [
    {
     "name": "stdout",
     "output_type": "stream",
     "text": [
      "{'a': 4, 'crow': 2, 'walked': 1, 'into': 1, 'bar': 1, 'and': 1, 'asks': 1, 'for': 1, 'drink': 1, 'the': 2, 'bartender': 2, 'says': 1, 'I': 1, 'hope': 1, 'you': 1, 'friends': 1, 'are': 1, 'not': 1, 'coming': 1, 'because': 1, 'last': 1, 'time': 1, 'there': 1, 'was': 1, 'murder': 1}\n"
     ]
    }
   ],
   "source": [
    "sentence = \"a crow walked into a crow bar and asks for a drink the bartender the bartender says I hope you friends are not coming because last time there was a murder\"\n",
    "\n",
    "count_dict={}\n",
    "for word in sentence.split():\n",
    "    if word not in count_dict:\n",
    "        count_dict[word]=1\n",
    "    else:\n",
    "        count_dict[word]+=1\n",
    "print(count_dict)\n",
    "\n",
    "# {'a': 4, 'crow': 2, 'walked': 1, 'into': 1, 'bar': 1, 'and': 1, 'asks': 1, 'for': 1, 'drink': 1, 'the': 2, 'bartender': 2, 'says': 1, 'I': 1, 'hope': 1, 'you': 1, 'friends': 1, 'are': 1, 'not': 1, 'coming': 1, 'because': 1, 'last': 1, 'time': 1, 'there': 1, 'was': 1, 'murder': 1}"
   ]
  },
  {
   "cell_type": "code",
   "execution_count": 64,
   "metadata": {},
   "outputs": [
    {
     "name": "stdout",
     "output_type": "stream",
     "text": [
      "{'a': 4, 'crow': 2, 'walked': 1, 'into': 1, 'bar': 1, 'and': 1, 'asks': 1, 'for': 1, 'drink': 1, 'the': 2, 'bartender': 2, 'says': 1, 'I': 1, 'hope': 1, 'you': 1, 'friends': 1, 'are': 1, 'not': 1, 'coming': 1, 'because': 1, 'last': 1, 'time': 1, 'there': 1, 'was': 1, 'murder': 1}\n"
     ]
    }
   ],
   "source": [
    "sentence = \"a crow walked into a crow bar and asks for a drink the bartender the bartender says I hope you friends are not coming because last time there was a murder\"\n",
    "\n",
    "count_dict={}\n",
    "for word in sentence.split():\n",
    "    count_dict[word]=count_dict.get(word, 0)+1\n",
    "print(count_dict)"
   ]
  },
  {
   "cell_type": "code",
   "execution_count": 67,
   "metadata": {},
   "outputs": [
    {
     "data": {
      "text/plain": [
       "Counter({'a': 4,\n",
       "         'crow': 2,\n",
       "         'walked': 1,\n",
       "         'into': 1,\n",
       "         'bar': 1,\n",
       "         'and': 1,\n",
       "         'asks': 1,\n",
       "         'for': 1,\n",
       "         'drink': 1,\n",
       "         'the': 2,\n",
       "         'bartender': 2,\n",
       "         'says': 1,\n",
       "         'I': 1,\n",
       "         'hope': 1,\n",
       "         'you': 1,\n",
       "         'friends': 1,\n",
       "         'are': 1,\n",
       "         'not': 1,\n",
       "         'coming': 1,\n",
       "         'because': 1,\n",
       "         'last': 1,\n",
       "         'time': 1,\n",
       "         'there': 1,\n",
       "         'was': 1,\n",
       "         'murder': 1})"
      ]
     },
     "execution_count": 67,
     "metadata": {},
     "output_type": "execute_result"
    }
   ],
   "source": [
    "from collections import Counter\n",
    "\n",
    "sentence = \"a crow walked into a crow bar and asks for a drink the bartender the bartender says I hope you friends are not coming because last time there was a murder\"\n",
    "count_dict = Counter(sentence.split())\n",
    "count_dict"
   ]
  },
  {
   "cell_type": "markdown",
   "metadata": {},
   "source": [
    "##### sorted()"
   ]
  },
  {
   "cell_type": "code",
   "execution_count": 73,
   "metadata": {},
   "outputs": [
    {
     "name": "stdout",
     "output_type": "stream",
     "text": [
      "['Ted', 'Max', 'Lilly', 'Larney', 'Barney']\n",
      "{'Max': 'blue', 'Lilly': 'brown', 'Barney': 'blue', 'Larney': 'brown', 'Ted': 'purple'}\n",
      "['Barney', 'Larney', 'Lilly', 'Max', 'Ted']\n",
      "['blue', 'blue', 'brown', 'brown', 'purple']\n",
      "[('Barney', 'blue'), ('Larney', 'brown'), ('Lilly', 'brown'), ('Max', 'blue'), ('Ted', 'purple')]\n"
     ]
    }
   ],
   "source": [
    "# sorts variables in order\n",
    "# sorted(dict.values()) or dict.keys() or dict.items()\n",
    "\n",
    "people = {\n",
    "    'Max': 'blue',\n",
    "    'Lilly': 'brown',\n",
    "    'Barney': 'blue',\n",
    "    'Larney': 'brown',\n",
    "    'Ted': 'purple'\n",
    "}\n",
    "\n",
    "print(\n",
    "    sorted(people, reverse=True)\n",
    ")\n",
    "\n",
    "print(people)\n",
    "\n",
    "print(\n",
    "    sorted(people.keys())\n",
    ")\n",
    "\n",
    "\n",
    "print(\n",
    "    sorted(people.values())\n",
    ")\n",
    "\n",
    "print(\n",
    "    sorted(people.items())\n",
    ")"
   ]
  },
  {
   "cell_type": "markdown",
   "metadata": {},
   "source": [
    "##### List with Dictionaries"
   ]
  },
  {
   "cell_type": "code",
   "execution_count": 81,
   "metadata": {},
   "outputs": [
    {
     "name": "stdout",
     "output_type": "stream",
     "text": [
      "Steve\n"
     ]
    }
   ],
   "source": [
    "my_dict = {'random_guy': 'Steve', 'another_guy': 'Travis'}\n",
    "\n",
    "print(my_dict[\"random_guy\"])"
   ]
  },
  {
   "cell_type": "code",
   "execution_count": 84,
   "metadata": {},
   "outputs": [
    {
     "name": "stdout",
     "output_type": "stream",
     "text": [
      "['Marcus', 'Connor', {'random_guy': ['jalop', 'bacon', 'eggs'], 'another_guy': 'Travis'}, 'Perry', 'Lizzette']\n",
      "{'random_guy': ['jalop', 'bacon', 'eggs'], 'another_guy': 'Travis'}\n",
      "<class 'dict'>\n",
      "eggs\n"
     ]
    }
   ],
   "source": [
    "names = [\"Marcus\", \"Connor\",{\"random_guy\": [\"jalop\", \"bacon\", \"eggs\"], \"another_guy\":\"Travis\"}, \"Perry\", \"Lizzette\"]\n",
    "\n",
    "print(names)\n",
    "\n",
    "print(\n",
    "    names[2]\n",
    ")\n",
    "\n",
    "\n",
    "print(\n",
    "    type(names[2])\n",
    ")\n",
    "\n",
    "print(\n",
    "    names[2][\"random_guy\"][2]\n",
    ")"
   ]
  },
  {
   "cell_type": "markdown",
   "metadata": {},
   "source": [
    "##### Dictionaries with Lists"
   ]
  },
  {
   "cell_type": "code",
   "execution_count": 92,
   "metadata": {},
   "outputs": [
    {
     "name": "stdout",
     "output_type": "stream",
     "text": [
      "=====================\n",
      "Item Name: Item A\n",
      "Item Price: 2.99\n",
      "Item Desc: A jolly good Item\n",
      "=====================\n",
      "Item Name: Item B\n",
      "Item Price: 10.99\n",
      "Item Desc: A waste of your money\n",
      "=====================\n",
      "Item Name: Item C\n",
      "Item Price: 0.99\n",
      "Item Desc: Too cheap to use; came from wish.com\n"
     ]
    }
   ],
   "source": [
    "# be careful when using numbers as keys in dictionaries, don't confuse them with indexes\n",
    "\n",
    "all_items = [\n",
    "    {\n",
    "        \"name\":\"Item A\",\n",
    "        \"price\":2.99,\n",
    "        \"desc\" : \"A jolly good Item\"\n",
    "    },\n",
    "    {\n",
    "        \"name\": \"Item B\",\n",
    "        \"price\":10.99,\n",
    "        \"desc\": \"A waste of your money\"\n",
    "    },\n",
    "    {\n",
    "        \"name\": \"Item C\",\n",
    "        \"price\": 0.99,\n",
    "        \"desc\":\"Too cheap to use; came from wish.com\"\n",
    "    }\n",
    "]\n",
    "\n",
    "\n",
    "\n",
    "\n",
    "for item in all_items:\n",
    "    print(\"=====================\")\n",
    "    print(f\"Item Name: {item['name']}\")\n",
    "    print(f\"Item Price: {item['price']}\" )\n",
    "    print(f\"Item Desc: {item['desc']}\" )\n"
   ]
  },
  {
   "cell_type": "markdown",
   "metadata": {},
   "source": [
    "##### Dictionaries with Dictionaries"
   ]
  },
  {
   "cell_type": "code",
   "execution_count": 135,
   "metadata": {},
   "outputs": [
    {
     "name": "stdout",
     "output_type": "stream",
     "text": [
      "Caleb Schmidt\n",
      "True\n",
      "{'name': 'Wii Sports', 'rating': 7}\n",
      "8\n",
      "I am disgusted\n",
      "{'mint_chip': True, 'strawberry': True, 'vanilla': False}\n",
      "he likes  mint_chip\n",
      "he likes  strawberry\n",
      "he hates  vanilla\n",
      "[{'name': 'Wii Sports', 'rating': 7}, {'name': 'Smash Ult', 'rating': 8}, {'name': 'Starcraft', 'rating': 6}]\n",
      "Wii Sports has rating of 7\n",
      "Smash Ult has rating of 8\n",
      "Starcraft has rating of 6\n",
      "I am an idoit\n",
      "Starcraft\n",
      "['I am tired', 'I am confused', 'I am disgusted', 'I am a genious', 'I am an idoit']\n",
      "I am confused\n",
      "I am a genious\n",
      "['I am confused', 'I am a genious']\n",
      "{'name': 'Smash Ult', 'rating': 8}\n"
     ]
    }
   ],
   "source": [
    "# to get values, must traverse through keys\n",
    "\n",
    "caleb= {\n",
    "    \"first_name\": \"Caleb\",\n",
    "    \"last_name\" : \"Schmidt\",\n",
    "    \"ice_cream\":{\n",
    "        \"mint_chip\": True,\n",
    "        \"strawberry\":True,\n",
    "        \"vanilla\":False\n",
    "    },\n",
    "    \"games\":[\n",
    "        {\n",
    "            \"name\":\"Wii Sports\",\n",
    "            \"rating\":7\n",
    "        },\n",
    "       {\n",
    "            \"name\":\"Smash Ult\",\n",
    "            \"rating\":8\n",
    "        },\n",
    "        {\n",
    "            \"name\":\"Starcraft\",\n",
    "            \"rating\":6\n",
    "        }\n",
    "    ],\n",
    "    \"emotions\": [\"I am tired\", \"I am confused\", \"I am disgusted\", \"I am a genious\", \"I am an idoit\"]\n",
    "    \n",
    "}\n",
    "\n",
    "print(f\"{caleb['first_name']} {caleb['last_name']}\")\n",
    "\n",
    "print(\n",
    "    caleb[\"ice_cream\"][\"mint_chip\"]\n",
    ")\n",
    "\n",
    "print(\n",
    "    caleb[\"games\"][0]\n",
    ")\n",
    "\n",
    "print(\n",
    "    caleb[\"games\"][1][\"rating\"]\n",
    ")\n",
    "\n",
    "print(\n",
    "    caleb[\"emotions\"][2]\n",
    ")\n",
    "\n",
    "icecreams = caleb[\"ice_cream\"]\n",
    "print(icecreams)\n",
    "for flavor, likes in icecreams.items():\n",
    "    if likes:\n",
    "        print(\"he likes \", flavor)\n",
    "    else:\n",
    "        print(\"he hates \", flavor)\n",
    "        \n",
    "\n",
    "        \n",
    "games = caleb[\"games\"]\n",
    "print(games)\n",
    "for game in games:\n",
    "    print(f\"{game['name']} has rating of {game['rating']}\")\n",
    "    \n",
    "    \n",
    "print(\n",
    "    caleb[\"emotions\"][-1]\n",
    ")\n",
    "\n",
    "print(\n",
    "    caleb[\"games\"][-1][\"name\"]\n",
    ")\n",
    "\n",
    "feelings = caleb[\"emotions\"]\n",
    "print(feelings)\n",
    "for index, feeling in enumerate(feelings):\n",
    "    if index % 2 != 0:\n",
    "        print(feeling)\n",
    "        \n",
    "print(caleb[\"emotions\"][1::2])\n",
    "        \n",
    "print(\n",
    "    caleb[\"games\"][1]\n",
    ")"
   ]
  },
  {
   "cell_type": "markdown",
   "metadata": {},
   "source": [
    "## Dictionaries vs. Lists (over time) Example of RUNTIME\n",
    "### When inputting values in a Dictionary vs List"
   ]
  },
  {
   "cell_type": "code",
   "execution_count": 133,
   "metadata": {},
   "outputs": [],
   "source": [
    "import time\n",
    "\n",
    "\n",
    "# generate fake dictionary\n",
    "d = {}\n",
    "\n",
    "for i in range(10000000):\n",
    "    d[i] = 'value'\n",
    "    \n",
    "\n",
    "# generate fake list\n",
    "big_list = [x for x in range(10000000)]"
   ]
  },
  {
   "cell_type": "code",
   "execution_count": 134,
   "metadata": {},
   "outputs": [
    {
     "name": "stdout",
     "output_type": "stream",
     "text": [
      "value\n",
      "Elapsed time for dictionary: 9.441375732421875e-05\n",
      "9999999\n",
      "Elapsed time for list: 0.6885297298431396\n"
     ]
    }
   ],
   "source": [
    "# tracking time for dictionary\n",
    "start_time = time.time()\n",
    "\n",
    "print(d[9999999])\n",
    "\n",
    "end_time = time.time() - start_time\n",
    "\n",
    "print('Elapsed time for dictionary: {}'.format(end_time))\n",
    "\n",
    "\n",
    "# tracking time for list\n",
    "start_time = time.time()\n",
    "\n",
    "for i in range(len(big_list)):\n",
    "    if i == 9999999:\n",
    "        print(i)\n",
    "\n",
    "end_time = time.time() - start_time\n",
    "\n",
    "print('Elapsed time for list: {}'.format(end_time))"
   ]
  },
  {
   "cell_type": "markdown",
   "metadata": {},
   "source": [
    "## Exercise #3 - Write a Function that asks someone's name and address, and then stores that into a dictionary, and continues to do so until they choose to 'quit'. Once they quit, the program should print all names and addresses. <br>\n",
    "<p>\n",
    "<b>Proper steps:</b><br>\n",
    "step 1: write a function that takes in information and stores it in a dictionary<br>\n",
    "step 2: define an empty dictionary to work with<br>\n",
    "step 3: create our loop, which asks the user for information until they quit<br>\n",
    "step 4: ask for the information, and store it into variables<br>\n",
    "step 5: check if the user types quit<br>\n",
    "step 5a: print out all information<br>\n",
    "step 5b: break out of the loop<br>\n",
    "step 6: if they didn't quit, add the information to the dictionary<br>\n",
    "step 7: invoke the function by calling it\n",
    "</p>"
   ]
  },
  {
   "cell_type": "code",
   "execution_count": 136,
   "metadata": {},
   "outputs": [
    {
     "name": "stdout",
     "output_type": "stream",
     "text": [
      "After the clear\n"
     ]
    }
   ],
   "source": [
    "from IPython.display import clear_output\n",
    "\n",
    "print(\"hello\")\n",
    "clear_output()\n",
    "print(\"After the clear\")"
   ]
  },
  {
   "cell_type": "code",
   "execution_count": 138,
   "metadata": {},
   "outputs": [
    {
     "name": "stdout",
     "output_type": "stream",
     "text": [
      "What is your name? Herman\n",
      "What is the adress for Herman? 1313 mockingbird lane\n",
      "What is your name? Marge\n",
      "What is the adress for Marge? 123 fake St.\n",
      "What is your name? quit\n",
      "{'Herman': '1313 mockingbird lane', 'Marge': '123 fake St.'}\n"
     ]
    },
    {
     "data": {
      "text/plain": [
       "{'Herman': '1313 mockingbird lane', 'Marge': '123 fake St.'}"
      ]
     },
     "execution_count": 138,
     "metadata": {},
     "output_type": "execute_result"
    }
   ],
   "source": [
    "def address_book_function():\n",
    "    address_book = {}\n",
    "    while True:\n",
    "        name = input(\"What is your name? \").strip()\n",
    "        if name.lower() == 'quit':\n",
    "            print(address_book)\n",
    "            break\n",
    "        address = input(f\"What is the adress for {name}? \").strip()\n",
    "        if address.lower() == 'quit':\n",
    "            print(address_book)\n",
    "            break\n",
    "        address_book[name]=address\n",
    "    return address_book\n",
    "\n",
    "address_book_function()"
   ]
  },
  {
   "cell_type": "markdown",
   "metadata": {},
   "source": [
    "## Set <br>\n",
    "<p>A Set is an unordered collection data type that is iterable (loop), mutable, and has no duplicate elements.<br>Major advantage is that it is highly optimized in checking if something is in the set, as opposed to checking if something is in a list.</p>"
   ]
  },
  {
   "cell_type": "markdown",
   "metadata": {},
   "source": [
    "##### Declaring"
   ]
  },
  {
   "cell_type": "code",
   "execution_count": 140,
   "metadata": {},
   "outputs": [
    {
     "name": "stdout",
     "output_type": "stream",
     "text": [
      "<class 'set'>\n",
      "{1, 2, 3, 4}\n"
     ]
    }
   ],
   "source": [
    "# set() or {}\n",
    "# no order {3, 2, 1} outputs as {1, 2, 3}\n",
    "my_set = set()\n",
    "\n",
    "print(type(my_set))\n",
    "\n",
    "my_set1 = {1,1,1,2,3,4}\n",
    "\n",
    "print(my_set1)"
   ]
  },
  {
   "cell_type": "code",
   "execution_count": 141,
   "metadata": {
    "scrolled": false
   },
   "outputs": [
    {
     "name": "stdout",
     "output_type": "stream",
     "text": [
      "<class 'dict'>\n"
     ]
    }
   ],
   "source": [
    "my_set = {} # This is actually a dicitonary\n",
    "\n",
    "print(type(my_set))"
   ]
  },
  {
   "cell_type": "code",
   "execution_count": 142,
   "metadata": {
    "scrolled": true
   },
   "outputs": [
    {
     "ename": "TypeError",
     "evalue": "'set' object is not subscriptable",
     "output_type": "error",
     "traceback": [
      "\u001b[0;31m---------------------------------------------------------------------------\u001b[0m",
      "\u001b[0;31mTypeError\u001b[0m                                 Traceback (most recent call last)",
      "\u001b[0;32m<ipython-input-142-f0a3478c002e>\u001b[0m in \u001b[0;36m<module>\u001b[0;34m\u001b[0m\n\u001b[0;32m----> 1\u001b[0;31m \u001b[0mmy_set1\u001b[0m\u001b[0;34m[\u001b[0m\u001b[0;36m1\u001b[0m\u001b[0;34m]\u001b[0m\u001b[0;34m\u001b[0m\u001b[0;34m\u001b[0m\u001b[0m\n\u001b[0m",
      "\u001b[0;31mTypeError\u001b[0m: 'set' object is not subscriptable"
     ]
    }
   ],
   "source": [
    "my_set1[1] # can't"
   ]
  },
  {
   "cell_type": "markdown",
   "metadata": {},
   "source": [
    "##### .add()"
   ]
  },
  {
   "cell_type": "code",
   "execution_count": 145,
   "metadata": {},
   "outputs": [
    {
     "name": "stdout",
     "output_type": "stream",
     "text": [
      "{'C', 'D', 'A', 'B'}\n",
      "{'C', 'D', 'A', 'B'}\n"
     ]
    }
   ],
   "source": [
    "# set.add()\n",
    "my_set = {\"A\",\"B\",\"C\"}\n",
    "\n",
    "my_set.add(\"D\")\n",
    "print(my_set)\n",
    "\n",
    "my_set.add(\"A\")\n",
    "print(my_set)"
   ]
  },
  {
   "cell_type": "code",
   "execution_count": 147,
   "metadata": {},
   "outputs": [
    {
     "name": "stdout",
     "output_type": "stream",
     "text": [
      "I found it\n"
     ]
    }
   ],
   "source": [
    "for letter in my_set:\n",
    "    if letter==\"A\":\n",
    "        print(\"I found it\")"
   ]
  },
  {
   "cell_type": "code",
   "execution_count": null,
   "metadata": {},
   "outputs": [],
   "source": [
    "\"c\" in [\"a\", \"b\", \"c\"] # this is slow\n",
    "\n",
    "\"c\" in {\"a\", \"b\", \"c\"} #this is fast  #Best way to check memberhsipp is with a set!!!!!"
   ]
  },
  {
   "cell_type": "markdown",
   "metadata": {},
   "source": [
    "##### .remove()"
   ]
  },
  {
   "cell_type": "code",
   "execution_count": 149,
   "metadata": {
    "scrolled": true
   },
   "outputs": [
    {
     "name": "stdout",
     "output_type": "stream",
     "text": [
      "{'C', 'A'}\n"
     ]
    },
    {
     "ename": "KeyError",
     "evalue": "'D'",
     "output_type": "error",
     "traceback": [
      "\u001b[0;31m---------------------------------------------------------------------------\u001b[0m",
      "\u001b[0;31mKeyError\u001b[0m                                  Traceback (most recent call last)",
      "\u001b[0;32m<ipython-input-149-66b73793fcc6>\u001b[0m in \u001b[0;36m<module>\u001b[0;34m\u001b[0m\n\u001b[1;32m      6\u001b[0m \u001b[0mmy_set\u001b[0m\u001b[0;34m.\u001b[0m\u001b[0mremove\u001b[0m\u001b[0;34m(\u001b[0m\u001b[0;34m\"B\"\u001b[0m\u001b[0;34m)\u001b[0m\u001b[0;34m\u001b[0m\u001b[0;34m\u001b[0m\u001b[0m\n\u001b[1;32m      7\u001b[0m \u001b[0mprint\u001b[0m\u001b[0;34m(\u001b[0m\u001b[0mmy_set\u001b[0m\u001b[0;34m)\u001b[0m\u001b[0;34m\u001b[0m\u001b[0;34m\u001b[0m\u001b[0m\n\u001b[0;32m----> 8\u001b[0;31m \u001b[0mmy_set\u001b[0m\u001b[0;34m.\u001b[0m\u001b[0mremove\u001b[0m\u001b[0;34m(\u001b[0m\u001b[0;34m\"D\"\u001b[0m\u001b[0;34m)\u001b[0m\u001b[0;34m\u001b[0m\u001b[0;34m\u001b[0m\u001b[0m\n\u001b[0m",
      "\u001b[0;31mKeyError\u001b[0m: 'D'"
     ]
    }
   ],
   "source": [
    "# removes by value\n",
    "# set.remove()\n",
    "# nums.remove(56)\n",
    "\n",
    "my_set = {\"A\",\"B\",\"C\"}\n",
    "my_set.remove(\"B\")\n",
    "print(my_set)\n",
    "my_set.remove(\"D\") #error"
   ]
  },
  {
   "cell_type": "code",
   "execution_count": 150,
   "metadata": {},
   "outputs": [
    {
     "name": "stdout",
     "output_type": "stream",
     "text": [
      "{'C', 'A'}\n"
     ]
    }
   ],
   "source": [
    "my_set = {\"A\",\"B\",\"C\"}\n",
    "my_set.discard(\"B\")\n",
    "print(my_set)\n",
    "my_set.discard(\"D\") #no error"
   ]
  },
  {
   "cell_type": "markdown",
   "metadata": {},
   "source": [
    "##### .union() "
   ]
  },
  {
   "cell_type": "code",
   "execution_count": 152,
   "metadata": {},
   "outputs": [
    {
     "data": {
      "text/plain": [
       "{1, 2, 3, 4, 5, 6, 7, 8}"
      ]
     },
     "execution_count": 152,
     "metadata": {},
     "output_type": "execute_result"
    }
   ],
   "source": [
    "# Returns a union of two sets, can also use '|' or set.union(set)\n",
    "# joins all numbers, gets rid of duplicates\n",
    "set1 = {1,2,3,4}\n",
    "set2 = {5,6,7,8}\n",
    "\n",
    "set1.union(set2)"
   ]
  },
  {
   "cell_type": "code",
   "execution_count": 153,
   "metadata": {
    "scrolled": true
   },
   "outputs": [
    {
     "data": {
      "text/plain": [
       "{1, 2, 3, 4, 5, 6, 7, 8}"
      ]
     },
     "execution_count": 153,
     "metadata": {},
     "output_type": "execute_result"
    }
   ],
   "source": [
    "set2.union(set1)"
   ]
  },
  {
   "cell_type": "code",
   "execution_count": 154,
   "metadata": {},
   "outputs": [
    {
     "data": {
      "text/plain": [
       "{1, 2, 3, 4, 5, 6, 7, 8}"
      ]
     },
     "execution_count": 154,
     "metadata": {},
     "output_type": "execute_result"
    }
   ],
   "source": [
    "set1 | set2"
   ]
  },
  {
   "cell_type": "code",
   "execution_count": null,
   "metadata": {},
   "outputs": [],
   "source": []
  },
  {
   "cell_type": "markdown",
   "metadata": {},
   "source": [
    "##### .intersection()"
   ]
  },
  {
   "cell_type": "code",
   "execution_count": 158,
   "metadata": {},
   "outputs": [
    {
     "data": {
      "text/plain": [
       "{4, 5}"
      ]
     },
     "execution_count": 158,
     "metadata": {},
     "output_type": "execute_result"
    }
   ],
   "source": [
    "# Returns an intersection of two sets, can also use '&'\n",
    "# only takes similar elements from both sets\n",
    "set1 = {1,2,3,4,5}\n",
    "set2 = {4,5,6,7,8}\n",
    "\n",
    "set1.intersection(set2)\n",
    "set2.intersection(set1)"
   ]
  },
  {
   "cell_type": "code",
   "execution_count": 159,
   "metadata": {},
   "outputs": [
    {
     "data": {
      "text/plain": [
       "{4, 5}"
      ]
     },
     "execution_count": 159,
     "metadata": {},
     "output_type": "execute_result"
    }
   ],
   "source": [
    "set1 & set2"
   ]
  },
  {
   "cell_type": "markdown",
   "metadata": {},
   "source": [
    "##### .difference()"
   ]
  },
  {
   "cell_type": "code",
   "execution_count": 160,
   "metadata": {},
   "outputs": [
    {
     "data": {
      "text/plain": [
       "{1, 2, 3}"
      ]
     },
     "execution_count": 160,
     "metadata": {},
     "output_type": "execute_result"
    }
   ],
   "source": [
    "# Returns a set containing all the elements of invoking set that are not in the second set, can also use '-'\n",
    "# only takes values from the first set that are not in the second set\n",
    "# order matters\n",
    "\n",
    "set1.difference(set2)"
   ]
  },
  {
   "cell_type": "code",
   "execution_count": 161,
   "metadata": {},
   "outputs": [
    {
     "data": {
      "text/plain": [
       "{6, 7, 8}"
      ]
     },
     "execution_count": 161,
     "metadata": {},
     "output_type": "execute_result"
    }
   ],
   "source": [
    "set2.difference(set1)"
   ]
  },
  {
   "cell_type": "markdown",
   "metadata": {},
   "source": [
    "##### .clear()"
   ]
  },
  {
   "cell_type": "code",
   "execution_count": 162,
   "metadata": {},
   "outputs": [
    {
     "name": "stdout",
     "output_type": "stream",
     "text": [
      "set()\n"
     ]
    }
   ],
   "source": [
    "# Empties the whole set\n",
    "# set.clear()\n",
    "set1.clear()\n",
    "print(set1)"
   ]
  },
  {
   "cell_type": "markdown",
   "metadata": {},
   "source": [
    "##### Frozenset <br>\n",
    "<p>Frozen sets are immutable objects that only support methods and operators that produce a result without affecting the frozen set or sets to which they are applied.</p><br><b>Unique & Immutable</b>"
   ]
  },
  {
   "cell_type": "code",
   "execution_count": 164,
   "metadata": {},
   "outputs": [
    {
     "data": {
      "text/plain": [
       "frozenset({1, 2, 3, 4, 5, 6})"
      ]
     },
     "execution_count": 164,
     "metadata": {},
     "output_type": "execute_result"
    }
   ],
   "source": [
    "# frozenset([])\n",
    "s3 = {1,2,3,4,5,6}\n",
    "s_frozen = frozenset(s3)\n",
    "s_frozen"
   ]
  },
  {
   "cell_type": "code",
   "execution_count": 165,
   "metadata": {},
   "outputs": [
    {
     "ename": "AttributeError",
     "evalue": "'frozenset' object has no attribute 'add'",
     "output_type": "error",
     "traceback": [
      "\u001b[0;31m---------------------------------------------------------------------------\u001b[0m",
      "\u001b[0;31mAttributeError\u001b[0m                            Traceback (most recent call last)",
      "\u001b[0;32m<ipython-input-165-74519634c1d8>\u001b[0m in \u001b[0;36m<module>\u001b[0;34m\u001b[0m\n\u001b[0;32m----> 1\u001b[0;31m \u001b[0ms_frozen\u001b[0m\u001b[0;34m.\u001b[0m\u001b[0madd\u001b[0m\u001b[0;34m(\u001b[0m\u001b[0;36m9\u001b[0m\u001b[0;34m)\u001b[0m\u001b[0;34m\u001b[0m\u001b[0;34m\u001b[0m\u001b[0m\n\u001b[0m",
      "\u001b[0;31mAttributeError\u001b[0m: 'frozenset' object has no attribute 'add'"
     ]
    }
   ],
   "source": [
    "s_frozen.add(9)"
   ]
  },
  {
   "cell_type": "markdown",
   "metadata": {},
   "source": [
    "## Modules"
   ]
  },
  {
   "cell_type": "markdown",
   "metadata": {},
   "source": [
    "##### Importing Entire Modules"
   ]
  },
  {
   "cell_type": "code",
   "execution_count": 168,
   "metadata": {},
   "outputs": [
    {
     "name": "stdout",
     "output_type": "stream",
     "text": [
      "3.141592653589793\n",
      "2\n"
     ]
    }
   ],
   "source": [
    "# import or from 'xxx' import *\n",
    "# import math\n",
    "import math\n",
    "\n",
    "\n",
    "print(math.pi)\n",
    "print(math.ceil(5/3))"
   ]
  },
  {
   "cell_type": "markdown",
   "metadata": {},
   "source": [
    "##### Importing Methods Only"
   ]
  },
  {
   "cell_type": "code",
   "execution_count": 169,
   "metadata": {},
   "outputs": [
    {
     "name": "stdout",
     "output_type": "stream",
     "text": [
      "3.141592653589793\n",
      "2\n"
     ]
    }
   ],
   "source": [
    "# from 'xxx' import 'xxx'\n",
    "# from math import floor\n",
    "\n",
    "from math import pi, ceil\n",
    "\n",
    "\n",
    "print(pi)\n",
    "print(ceil(5/3))"
   ]
  },
  {
   "cell_type": "markdown",
   "metadata": {},
   "source": [
    "##### Using the 'as' Keyword"
   ]
  },
  {
   "cell_type": "code",
   "execution_count": 170,
   "metadata": {},
   "outputs": [
    {
     "name": "stdout",
     "output_type": "stream",
     "text": [
      "3.141592653589793\n"
     ]
    }
   ],
   "source": [
    "# from 'xxx' import 'xxx' as 'xxx' or import 'xxx' as 'xxx'\n",
    "# from math import floor as f\n",
    "from math import pi as newpi\n",
    "\n",
    "print(newpi)"
   ]
  },
  {
   "cell_type": "markdown",
   "metadata": {},
   "source": [
    "##### Creating a Module"
   ]
  },
  {
   "cell_type": "code",
   "execution_count": 172,
   "metadata": {
    "scrolled": true
   },
   "outputs": [
    {
     "name": "stdout",
     "output_type": "stream",
     "text": [
      "hello\n",
      "goodbye\n"
     ]
    }
   ],
   "source": [
    "import mymod\n",
    "\n",
    "mymod.say_hello()\n",
    "mymod.say_goodbye()"
   ]
  },
  {
   "cell_type": "code",
   "execution_count": 173,
   "metadata": {},
   "outputs": [
    {
     "name": "stdout",
     "output_type": "stream",
     "text": [
      "hello\n"
     ]
    }
   ],
   "source": [
    "from mymod import say_hello\n",
    "\n",
    "say_hello()"
   ]
  },
  {
   "cell_type": "code",
   "execution_count": 175,
   "metadata": {},
   "outputs": [
    {
     "name": "stdout",
     "output_type": "stream",
     "text": [
      "Do you want to apply to my Company? yes\n",
      "What is your first and last name? kevin beier\n",
      "What is your prev job? cat petter\n",
      "What is your pref. location? NY/SF/Raleighsf\n",
      "name: kevin beier \n",
      " job: cat petter \n",
      " location: sf\n",
      "Is this info corect? no\n",
      "What field was wrong? name/job/local?local\n",
      "What is your pref. location? NY/SF/RaleighNY\n",
      "Thanks for applying\n"
     ]
    }
   ],
   "source": [
    "def get_name():\n",
    "    name = input(\"What is your first and last name? \")\n",
    "    return name\n",
    "\n",
    "def get_last_job():\n",
    "    job = input(\"What is your prev job? \")\n",
    "    return job\n",
    "\n",
    "def get_location():\n",
    "    location = input(\"What is your pref. location? NY/SF/Raleigh\")\n",
    "    return location\n",
    "\n",
    "\n",
    "def main():\n",
    "    while True:\n",
    "        response = input(\"Do you want to apply to my Company? \")\n",
    "        if response[0].lower()!='y':\n",
    "            print(\"Why did you even come here? \")\n",
    "            break\n",
    "        name = get_name()\n",
    "        job = get_last_job()\n",
    "        location= get_location()\n",
    "        print(f\"name: {name} \\n job: {job} \\n location: {location}\")\n",
    "        response = input(\"Is this info corect? \")\n",
    "        if response[0].lower() == 'y':\n",
    "            print(\"Thanks for applying\")\n",
    "            break\n",
    "        wrong = input(\"What field was wrong? name/job/local?\").lower()\n",
    "        if wrong == \"name\":\n",
    "            name = get_name()\n",
    "        elif wrong == \"job\":\n",
    "            job = get_last_job()\n",
    "        elif wrong == \"local\":\n",
    "            location= get_location()\n",
    "        print(\"Thanks for applying\")\n",
    "        break\n",
    "\n",
    "main()\n",
    "\n",
    "        "
   ]
  },
  {
   "cell_type": "markdown",
   "metadata": {},
   "source": [
    "# Exercises"
   ]
  },
  {
   "cell_type": "markdown",
   "metadata": {},
   "source": [
    "### 1) Build a Shopping Cart <br>\n",
    "<p><b>You can use either lists or dictionaries. The program should have the following capabilities:</b><br><br>\n",
    "1) Takes in input <br>\n",
    "2) Stores user input into a dictionary or list <br>\n",
    "3) The User can add or delete items <br>\n",
    "4) The User can see current shopping list <br>\n",
    "5) The program Loops until user 'quits' <br>\n",
    "6) Upon quiting the program, print out all items in the user's list <br>\n",
    "</p>"
   ]
  },
  {
   "cell_type": "code",
   "execution_count": null,
   "metadata": {},
   "outputs": [],
   "source": [
    "from IPython.display import clear_output\n",
    "\n",
    "# Ask the user four bits of input: Do you want to : Show/Add/Delete or Quit?\n"
   ]
  },
  {
   "cell_type": "markdown",
   "metadata": {},
   "source": [
    "### 2) Create a Module in VS Code and Import It into jupyter notebook <br>\n",
    "<p><b>Module should have the following capabilities:</b><br><br>\n",
    "1) Has a function to calculate the square footage of a house <br>\n",
    "    <b>Reminder of Formula: Length X Width == Area<br>\n",
    "        <hr>\n",
    "2) Has a function to calculate the circumference of a circle <br><br>\n",
    "<b>Program in Jupyter Notebook should take in user input and use imported functions to calculate a circle's circumference or a houses square footage</b>\n",
    "</p>"
   ]
  },
  {
   "cell_type": "code",
   "execution_count": null,
   "metadata": {},
   "outputs": [],
   "source": [
    "# 2 * pi * r"
   ]
  }
 ],
 "metadata": {
  "kernelspec": {
   "display_name": "Python 3",
   "language": "python",
   "name": "python3"
  },
  "language_info": {
   "codemirror_mode": {
    "name": "ipython",
    "version": 3
   },
   "file_extension": ".py",
   "mimetype": "text/x-python",
   "name": "python",
   "nbconvert_exporter": "python",
   "pygments_lexer": "ipython3",
   "version": "3.10.5"
  }
 },
 "nbformat": 4,
 "nbformat_minor": 2
}
